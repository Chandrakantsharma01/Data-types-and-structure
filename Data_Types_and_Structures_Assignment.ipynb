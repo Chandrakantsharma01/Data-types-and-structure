{
  "nbformat": 4,
  "nbformat_minor": 0,
  "metadata": {
    "colab": {
      "provenance": []
    },
    "kernelspec": {
      "name": "python3",
      "display_name": "Python 3"
    },
    "language_info": {
      "name": "python"
    }
  },
  "cells": [
    {
      "cell_type": "markdown",
      "source": [
        "##Data Types and Structures Assignment**"
      ],
      "metadata": {
        "id": "tofJD7e2izJY"
      }
    },
    {
      "cell_type": "markdown",
      "source": [
        "Data Types and Structures"
      ],
      "metadata": {
        "id": "J6k6c3pgiwmC"
      }
    },
    {
      "cell_type": "markdown",
      "source": [
        "1. What are data structures, and why are they important?\n",
        "\n",
        "Answer: At a basic level, a data structure is a container that holds data in a particular layout, which makes certain oprations (like searching, sorting, inserting, or deleting data) more efficient. They important because, they have-\n",
        "   - Efficiency\n",
        "   - Orgnaization\n",
        "   - Code Simplicity and Reusability\n",
        "   - Memory Management\n",
        "   - Problem Solving\n"
      ],
      "metadata": {
        "id": "uHbG5PONj9HA"
      }
    },
    {
      "cell_type": "markdown",
      "source": [
        "2.  Explain the difference between mutable and immutable data types with examples.\n",
        "\n",
        "Answer: The key difference between mutable and immutable data types lies in whether the data can be changed (mutated) after it is created.\n",
        "\n",
        "**Mutable Data Types**\n",
        "\n",
        "  Mutable means the object can be changed after it's created — you can modify, add, or remove elements.\n",
        "\n",
        "*Examples of Mutable Data Types in Python* :\n",
        "\n",
        "List\n",
        "\n",
        "     my_list = [1, 2, 3]\n",
        "     my_list.append(4)   # Now my_list is [1, 2, 3, 4]\n",
        "\n",
        "Dictionary\n",
        "\n",
        "     my_dict = {'a': 1}\n",
        "     my_dict['b'] = 2    # Now my_dict is {'a': 1, 'b': 2}\n",
        "Set\n",
        "\n",
        "     my_set = {1, 2}\n",
        "     my_set.add(3)       # Now my_set is {1, 2, 3}\n",
        "\n",
        "**Immutable Data Types**\n",
        "\n",
        "   Immutable means the object cannot be changed once it is created. Any \"modification\" results in a new object.\n",
        "\n",
        "  *Examples of Immutable Data Types in Python* :\n",
        "\n",
        "Integer\n",
        "\n",
        "    x = 5\n",
        "    x = x + 1   # x is now 6, but it's a new object\n",
        "\n",
        "String\n",
        "\n",
        "    s = \"hello\"\n",
        "    s += \" world\"   # s is now \"hello world\", but a new string was created\n",
        "\n",
        "Tuple\n",
        "\n",
        "    t = (1, 2, 3)\n",
        "    t[0] = 9        # ❌ This will raise an error: 'tuple' object does not support item assignment"
      ],
      "metadata": {
        "id": "-yu1kfS6nKNa"
      }
    },
    {
      "cell_type": "markdown",
      "source": [
        "3. What are the main differences between lists and tuples in Python?\n",
        "\n",
        "Answer: The main differences between lists and tuples in Python 3 are centered around their mutability and the implications of this characteristic.\n",
        "\n",
        "*Mutability*\n",
        "\n",
        "- Lists are mutable: This means their elements can be modified (added, removed, or changed) after the list has been created.\n",
        "- Tuples are immutable: Once a tuple is created, its elements cannot be changed, added, or removed. This makes them suitable for representing fixed collections of items.\n",
        "\n",
        "*Syntax*\n",
        "\n",
        "- Lists: are defined using square brackets []. Example: my_list = [1, 2, 'a']\n",
        "- Tuples: are defined using parentheses (). Example: my_tuple = (1, 2, 'a')\n",
        "\n",
        "*Performance and Memory Usage*\n",
        "\n",
        "- Tuples: are generally more memory-efficient and can be slightly faster for iteration and access due to their fixed size and immutable nature, which allows for certain optimizations.\n",
        "- Lists: can consume more memory due to the overhead required to support dynamic resizing and modification operations.\n",
        "\n",
        "*Methods and Operations*\n",
        "- Lists: have a richer set of built-in methods for modification, such as append(), extend(), insert(), remove(), pop(), and sort().\n",
        "- Tuples: have fewer built-in methods, primarily count() and index(), as they do not support modification.\n",
        "\n",
        "*Use Cases*\n",
        "\n",
        "- Lists: are ideal for dynamic collections where elements need to be frequently added, removed, or changed.\n",
        "- Tuples: are suitable for representing fixed collections of related data, such as coordinates, database records, or function return values where the order and immutability are important. They can also be used as dictionary keys because of their immutability."
      ],
      "metadata": {
        "id": "YugL67EvsKke"
      }
    },
    {
      "cell_type": "markdown",
      "source": [
        "4. Describe how dictionaries store data.\n",
        "\n",
        "Answer: Dictionaries, a fundamental data structure in Python (and other languages), store data in key-value pairs. Each key in a dictionary is unique and associated with a corresponding value. This structure allows for efficient retrieval of a value by its key, similar to how a traditional dictionary provides definitions based on words.\n",
        "\n",
        "    my_dict = {\"name\": \"Alice\", \"age\": 30}\n",
        "    \"name\" and \"age\" are keys.\n",
        "    \"Alice\" and 30 are the corresponding values.\n",
        "\n"
      ],
      "metadata": {
        "id": "curDhvbuwPrE"
      }
    },
    {
      "cell_type": "markdown",
      "source": [
        "5. Why might you use a set instead of a list in Python?\n",
        "\n",
        "Answer: You might use a set instead of a list in Python when you need:\n",
        "\n",
        "*Unique Elements Only*\n",
        "\n",
        "- A set automatically removes duplicates.\n",
        "- A list allows duplicates.\n",
        "\n",
        "\n",
        "    my_list = [1, 2, 2, 3]\n",
        "    my_set = set(my_list)  # my_set becomes {1, 2, 3}\n",
        "\n",
        "*Faster Membership Testing*\n",
        "\n",
        "- Set: O(1) average time for x in my_set\n",
        "- List: O(n) time for x in my_list (needs to scan the whole list)\n",
        "\n",
        "\n",
        "    x in my_set   # Fast\n",
        "    x in my_list  # Slower for large lists\n",
        "\n",
        "*Set Operations*\n",
        "\n",
        "Sets support powerful mathematical operations that lists don’t:\n",
        "\n",
        "\n",
        "    a = {1, 2, 3}\n",
        "    b = {3, 4, 5}\n",
        "\n",
        "    a.union(b)        # {1, 2, 3, 4, 5}\n",
        "    a.intersection(b) # {3}\n",
        "    a.difference(b)   # {1, 2}\n"
      ],
      "metadata": {
        "id": "b_WX1-MXz9NH"
      }
    },
    {
      "cell_type": "markdown",
      "source": [
        "6. What is a string in Python, and how is it different from a list?\n",
        "\n",
        "Answer: In Python, a string is an immutable sequence of characters, while a list is a mutable sequence of items of any data type. Strings are enclosed in single or double quotes (e.g., \"hello\"), while lists are enclosed in square brackets and can contain elements of different types (e.g., [1, \"a\", True]).\n",
        "\n",
        "*Here's a more detailed breakdown*\n",
        "\n",
        "**Strings**\n",
        "\n",
        "- Immutable: Once a string is created, its characters cannot be changed directly.\n",
        "- Sequence of characters: Strings are used to represent textual data.\n",
        "- Enclosed in quotes: Strings are defined using single quotes ('...') or double quotes (\"...\").\n",
        "- Examples: \"hello\", \"Python\", \"123\".\n",
        "\n",
        "**Lists**\n",
        "\n",
        "- Mutable: Lists can be modified after they are created (elements can be added, removed, or changed).\n",
        "- Sequence of items: Lists can hold elements of any data type (integers, floats, strings, other lists, etc.).\n",
        "- Enclosed in square brackets: Lists are defined using square brackets [...].\n",
        "- Examples: [1, 2, 3], [\"apple\", \"banana\", \"cherry\"], [1, \"a\", True, [4, 5]]."
      ],
      "metadata": {
        "id": "I5QyTUFm2xLT"
      }
    },
    {
      "cell_type": "markdown",
      "source": [
        "7. How do tuples ensure data integrity in Python?\n",
        "\n",
        "Answer: Tuples in Python ensure data integrity primarily through their immutability. This characteristic means that once a tuple is created, its contents cannot be changed, added, or removed.\n",
        "\n",
        "**Here's how immutability contributes to data integrity**\n",
        "\n",
        "- Prevention of Accidental Modification:\n",
        "Since elements within a tuple cannot be altered after creation, there is no risk of accidental changes to the data. This is particularly valuable when representing constant values, configuration settings, or data that should remain consistent throughout a program's execution.\n",
        "- Safe Data Sharing:\n",
        "When a tuple is passed around in a program, either as an argument to a function or returned as a value, its contents are guaranteed to remain unchanged. This eliminates concerns about unintended side effects or modifications by other parts of the code.\n",
        "- Use as Dictionary Keys:\n",
        "Because tuples are immutable, they are hashable, meaning they can be used as keys in dictionaries. This allows for the creation of dictionaries where the keys represent fixed, composite identifiers, enhancing data organization and retrieval with guaranteed key integrity.\n",
        "- Predictability and Reliability:\n",
        "The unchangeable nature of tuples leads to more predictable and reliable code. Developers can be confident that the data stored in a tuple will remain in its original state, simplifying debugging and reasoning about program behavior.\n"
      ],
      "metadata": {
        "id": "o0BHOSOC4sRT"
      }
    },
    {
      "cell_type": "markdown",
      "source": [
        "8. What is a hash table, and how does it relate to dictionaries in Python?\n",
        "\n",
        "Answer: A hash table is a data structure that stores key-value pairs, allowing for efficient insertion, deletion, and retrieval of data. It achieves this efficiency by using a hash function to map keys to specific indices (or \"buckets\") within an underlying array. When you want to store a key-value pair, the hash function processes the key to generate an index, and the value is then stored at that location. When retrieving a value, the same hash function is applied to the key to quickly locate the corresponding value.\n",
        "\n",
        "- Relation to Python Dictionaries:\n",
        "Python dictionaries are a prime example of an abstract data type that is implemented using hash tables. When you create a Python dictionary and add key-value pairs, the dictionary internally uses a hash table to manage this data.\n",
        "\n",
        "**Here's how they relate** :\n",
        "\n",
        "- Underlying Implementation:\n",
        "Python dictionaries leverage the principles of hash tables. The keys you use in a dictionary are \"hashed\" by an internal hash function, which determines where the corresponding values are stored in memory.\n",
        "- Efficiency:\n",
        "The reason Python dictionaries offer fast average-case performance for lookups, insertions, and deletions (often described as O(1) time complexity) is precisely because of their hash table implementation.\n",
        "- Key Requirements:\n",
        "For a Python object to be used as a dictionary key, it must be \"hashable,\" meaning it can be processed by a hash function to produce a consistent hash value. Immutable types like strings, numbers, and tuples are hashable, while mutable types like lists and dictionaries themselves are not (as their contents can change, leading to inconsistent hash values).\n",
        "- Collision Handling:\n",
        "Hash tables, including those used by Python dictionaries, need mechanisms to handle \"collisions\" – situations where different keys produce the same hash value. Python's dictionary implementation includes sophisticated techniques to resolve these collisions and maintain efficiency."
      ],
      "metadata": {
        "id": "fuaxCpHI6h6s"
      }
    },
    {
      "cell_type": "markdown",
      "source": [
        "9. Can lists contain different data types in Python?\n",
        "\n",
        "Answer: lists in Python can contain elements of different data types. This is a key feature of Python lists, making them highly versatile.\n",
        "\n",
        "**For example, a single Python list can hold a combination of** :\n",
        "\n",
        "- Numbers: Integers, floats, etc.\n",
        "- Strings: Textual data.\n",
        "- Booleans: True or False.\n",
        "- Other data structures: Such as other lists, tuples, or dictionaries.\n",
        "\n",
        "\n",
        "    my_list = [42, \"hello\", 3.14, True, [1, 2], {\"key\": \"value\"}]\n",
        "\n",
        "*This list contains* :\n",
        "\n",
        "- An integer (42)\n",
        "\n",
        "- A string (\"hello\")\n",
        "\n",
        "- A float (3.14)\n",
        "\n",
        "- A boolean (True)\n",
        "\n",
        "- Another list ([1, 2])\n",
        "\n",
        "- A dictionary ({\"key\": \"value\"})\n",
        "\n",
        "This flexibility allows you to store and manage diverse collections of data within a single list object."
      ],
      "metadata": {
        "id": "FDk0XL4I70c5"
      }
    },
    {
      "cell_type": "markdown",
      "source": [
        "10. Explain why strings are immutable in Python.\n",
        "\n",
        "Answer: Strings are immutable in Python, meaning their content cannot be changed after they are created. Any operation that appears to modify a string, such as concatenation or replacement, actually results in the creation of a new string object in memory, while the original string remains unchanged.\n",
        "\n",
        "**The primary reasons for string immutability in Python include** :\n",
        "\n",
        "- Hashing and Dictionary Keys:\n",
        "\n",
        "Immutable objects can be reliably hashed, and their hash value remains constant throughout their lifetime. This property is crucial for using strings as keys in dictionaries and elements in sets, where efficient lookup based on hash values is required. If strings were mutable, their hash value could change, breaking the integrity of these data structures.\n",
        "- Thread Safety:\n",
        "\n",
        "In a multi-threaded environment, mutable objects can lead to race conditions and unexpected behavior if multiple threads attempt to modify the same object concurrently. Immutability eliminates this concern for strings, as no thread can modify a string object after its creation, ensuring consistent behavior across threads.\n",
        "- Security and Data Integrity:\n",
        "\n",
        "Immutability provides a level of security by preventing accidental or malicious modification of string data, especially when strings are used to store sensitive information like passwords or file paths. Once a string is created, its content is guaranteed to remain the same.\n",
        "- Performance Optimization (Interning):\n",
        "\n",
        "Python can perform optimizations like \"string interning\" for immutable strings. This involves storing only one copy of frequently used string literals (e.g., \"hello\") in memory, and subsequent references to the same string literal point to this single object, saving memory and improving performance for string comparisons.\n",
        "- Simplified Programming Model:\n",
        "\n",
        "Immutability simplifies reasoning about code, as developers do not need to worry about the side effects of functions or operations modifying string objects in place. This leads to more predictable and less error-prone code."
      ],
      "metadata": {
        "id": "uK3vtFhk_GEM"
      }
    },
    {
      "cell_type": "markdown",
      "source": [
        "11. What advantages do dictionaries offer over lists for certain tasks?\n",
        "\n",
        "Answer: Dictionaries excel in tasks requiring quick data retrieval and when relationships between data points need to be explicitly defined. Unlike lists, which are ordered sequences, dictionaries use key-value pairs for efficient lookups, making them ideal for tasks where you need to access data by its identifier rather than its position.\n",
        "\n",
        "**Advantages of Dictionaries** :\n",
        "\n",
        "- Faster Data Retrieval:\n",
        "\n",
        "Dictionaries, especially in Python, leverage hash tables for key-value storage, enabling very fast (O(1) on average) data retrieval. This means you can find a value associated with a key much quicker than searching through a list by index (which has O(n) complexity).\n",
        "- Clearer Data Representation:\n",
        "\n",
        "Dictionaries represent data as key-value pairs. This structure makes it easier to understand and manage related pieces of information, especially when dealing with complex data structures. For example, storing a user's information with keys like \"name\", \"email\", and \"phone\" is much clearer than storing it as a list with potentially ambiguous indices.\n",
        "- Dynamic Structure:\n",
        "\n",
        "Dictionaries are generally dynamic, meaning you can add, remove, or modify key-value pairs as needed, making them flexible for evolving data structures.\n",
        "Efficient for Mapping Relationships:\n",
        "Dictionaries are particularly useful for representing relationships between data. For example, you could map student IDs to their corresponding grades or product IDs to their prices.\n",
        "- Frequency Counting:\n",
        "\n",
        "Dictionaries are very efficient for counting the frequency of elements in a dataset. The elements themselves can serve as keys, and their counts as values.\n",
        "\n",
        "**When to Use Lists** :\n",
        "\n",
        "- Ordered Sequences:\n",
        "\n",
        "Lists are essential when the order of elements matters and you need to access them based on their position (index).\n",
        "- Simple Data Storage:\n",
        "\n",
        "When dealing with a simple collection of items where the order is important and you don't need to associate them with specific keys, lists are a good choice.\n",
        "- Ordered Operations:\n",
        "\n",
        "Lists are generally faster for operations that rely on the order of elements, like sorting."
      ],
      "metadata": {
        "id": "0ANyg4FoCphL"
      }
    },
    {
      "cell_type": "markdown",
      "source": [
        "12. Describe a scenario where using a tuple would be preferable over a list.\n",
        "\n",
        "Answer: A scenario where using a tuple is preferable to a list is when storing a fixed set of values that should not be modified after creation, such as a geographical coordinate (latitude, longitude). Tuples, being immutable, guarantee data integrity for such cases, preventing accidental or intentional changes.\n",
        "\n",
        "**Elaboration**:\n",
        "\n",
        "- Immutability:\n",
        "\n",
        "The core difference between tuples and lists lies in their mutability. Lists are mutable, meaning their elements can be changed after creation, while tuples are immutable. This means once a tuple is created, its contents cannot be modified.\n",
        "- Data Integrity:\n",
        "\n",
        "When dealing with data that represents a specific, unchanging concept, like a geographical coordinate, using a tuple enforces data integrity. It ensures that the latitude and longitude values, once assigned, remain consistent throughout the program's execution.\n",
        "- Example:\n",
        "\n",
        "Consider a scenario where you need to store the (latitude, longitude) coordinates of a location. Using a tuple (latitude, longitude) is preferable to a list [latitude, longitude] because it prevents accidental changes to these values. If you were to use a list, you could inadvertently modify the latitude or longitude, potentially leading to errors in your program."
      ],
      "metadata": {
        "id": "ArqsFnLrGhjp"
      }
    },
    {
      "cell_type": "markdown",
      "source": [
        "13.  How do sets handle duplicate values in Python?\n",
        "\n",
        "Answer: Python sets fundamentally do not allow duplicate values. They are designed to store only unique elements. When an attempt is made to add a duplicate element to a set, the set automatically discards the duplicate, ensuring that each element within the set remains unique.\n",
        "\n",
        "This behavior is a core characteristic of Python sets and is one of their primary uses, particularly for tasks like removing duplicates from a list or performing mathematical set operations such as union, intersection, and difference, where uniqueness is inherent to the operation.\n",
        "\n",
        "For example, if a list containing duplicate values is converted to a set, the resulting set will only contain the unique values from that list.\n",
        "\n",
        "    my_list = [1, 2, 2, 3, 4, 4, 5]\n",
        "    my_set = set(my_list)\n",
        "    print(my_set)\n",
        "    {1, 2, 3, 4, 5}"
      ],
      "metadata": {
        "id": "2caQIVCfI2bK"
      }
    },
    {
      "cell_type": "markdown",
      "source": [
        "14. How does the “in” keyword work differently for lists and dictionaries?\n",
        "\n",
        "Answer: In Python, the in keyword functions differently for lists and dictionaries. For lists, in checks for the existence of an element, while for dictionaries, it checks for the existence of a key. Lists use a search algorithm to find the element, whereas dictionaries use a hashing mechanism for key lookups, resulting in different performance characteristics.\n",
        "\n",
        "**Lists** :\n",
        "\n",
        "- When used with a list, in checks if a specific value is present within the list's elements.\n",
        "- It iterates through the list, comparing each element to the target value until a match is found or the end of the list is reached.\n",
        "- The time complexity for this operation is typically O(n), meaning the time it takes increases linearly with the number of elements in the list.\n",
        "\n",
        "**Dictionaries**:\n",
        "\n",
        "- When used with a dictionary, in checks if a given key exists as a key within the dictionary.\n",
        "- Dictionaries utilize a hashing function to store and retrieve key-value pairs, allowing for very fast lookups.\n",
        "- The time complexity for key lookups using in is typically O(1), which is considered constant time, meaning the time it takes is independent of the number of items in the dictionary.\n",
        "\n",
        "**In essence** :\n",
        "- For lists, in is used to find values.\n",
        "- For dictionaries, in is used to find keys.\n",
        "\n",
        "**Example** :\n",
        "\n",
        "    my_list = [1, 2, 3, 4, 5]\n",
        "    my_dict = {'a': 1, 'b': 2, 'c': 3}\n",
        "\n",
        "    print(3 in my_list)  # Output: True\n",
        "    print('b' in my_dict)  # Output: True\n",
        "    print(5 in my_dict)  # Output: False (checks for key, not value)"
      ],
      "metadata": {
        "id": "2mqCpqoEKCOP"
      }
    },
    {
      "cell_type": "markdown",
      "source": [
        "15. Can you modify the elements of a tuple? Explain why or why not.\n",
        "\n",
        "Answer: You cannot directly modify the elements of a tuple in Python. Tuples are immutable, meaning their contents cannot be changed after creation. This immutability is a core characteristic of tuples.\n",
        "\n",
        "**Why tuples are immutable** :\n",
        "\n",
        "- Memory efficiency:\n",
        "\n",
        "Immutability allows for more efficient memory management, as the size and content of a tuple are fixed at creation.\n",
        "- Data integrity:\n",
        "\n",
        "It ensures that the data stored in a tuple remains consistent throughout the program's execution, preventing accidental modifications.\n",
        "- Hashability:\n",
        "\n",
        "Because tuples are immutable, they can be used as keys in dictionaries and elements in sets, which require hashable objects.\n",
        "- How to work around immutability:\n",
        "\n",
        "While you can't directly modify a tuple, you can achieve a similar result by:\n",
        "Converting to a list: You can convert a tuple into a list, modify the list, and then convert it back to a tuple.\n",
        "\n",
        "    my_tuple = (1, 2, 3)\n",
        "    my_list = list(my_tuple)\n",
        "    my_list = 5  # Modify the list\n",
        "    new_tuple = tuple(my_list) # Convert back to tuple\n",
        "    print(new_tuple) # Output: (1, 5, 3)\n",
        "Creating a new tuple: You can create a new tuple by combining parts of the original tuple with new elements using tuple concatenation or slicing.\n",
        "Python\n",
        "\n",
        "    my_tuple = (1, 2, 3)\n",
        "    new_tuple = my_tuple[:1] + (5,) + my_tuple[2:]\n",
        "    print(new_tuple) # Output: (1, 5, 3)\n",
        "These workarounds effectively create a new tuple with the desired changes, rather than modifying the original one."
      ],
      "metadata": {
        "id": "Ck0LJE5eMsRa"
      }
    },
    {
      "cell_type": "markdown",
      "source": [
        "16. What is a nested dictionary, and give an example of its use case?\n",
        "\n",
        "Answer: A nested dictionary in Python is a dictionary where the values are themselves dictionaries. This allows you to create hierarchical or multi-level data structures, where each dictionary can contain other dictionaries as its values.\n",
        "\n",
        "**Example** :\n",
        "\n",
        "    # Outer dictionary\n",
        "    employees = {\n",
        "    \"department1\": {\n",
        "        \"employee1\": {\"name\": \"Alice\", \"position\": \"Software Engineer\"},\n",
        "        \"employee2\": {\"name\": \"Bob\", \"position\": \"Data Analyst\"}\n",
        "    },\n",
        "    \"department2\": {\n",
        "        \"employee3\": {\"name\": \"Charlie\", \"position\": \"Project Manager\"},\n",
        "        \"employee4\": {\"name\": \"David\", \"position\": \"UI/UX Designer\"}\n",
        "    }\n",
        "    }\n",
        "\n",
        "    # Accessing nested values:\n",
        "    print(employees[\"department1\"][\"employee1\"][\"name\"]) # Output: Alice\n",
        "    print(employees[\"department2\"][\"employee3\"][\"position\"]) # Output: Project Manager\n",
        "\n",
        "**In this example** :\n",
        "- employees is the outer dictionary.\n",
        "- The values of employees (department1, department2) are also dictionaries.\n",
        "- Each of those inner dictionaries contains dictionaries as values (employee1, employee2, etc.), representing employee information.\n",
        "- We can access specific information (like an employee's name or position) by chaining the keys: employees[department][employee][attribute].\n",
        "\n",
        "**Use Cases** :\n",
        "\n",
        "*Nested dictionaries are particularly useful for* :\n",
        "1. Organizing Hierarchical Data:\n",
        "Representing structures like employee departments, file systems, or product categories.\n",
        "2. Storing Complex Data:\n",
        "Storing data where attributes are themselves organized into subgroups or sub-elements.\n",
        "3. Working with APIs and JSON:\n",
        "Many APIs and data formats (like JSON) naturally use nested structures, making nested dictionaries an efficient way to handle such data.\n",
        "4. Modeling Entities with Relationships:\n",
        "Creating representations of objects with attributes and relationships (e.g., a customer with their orders or a product with its features)."
      ],
      "metadata": {
        "id": "K7cNPIDmO5j5"
      }
    },
    {
      "cell_type": "markdown",
      "source": [
        "17. Describe the time complexity of accessing elements in a dictionary.\n",
        "\n",
        "Answer: Accessing elements in a dictionary (also known as a hash map or associative array) typically has a time complexity of O(1) on average, which means it takes constant time regardless of the dictionary's size. This is because dictionaries use a hash table internally to store and retrieve data, and hash table lookups are generally very fast.\n",
        "- Hash Tables:\n",
        "\n",
        "Dictionaries use a hash table data structure to store key-value pairs. A hash function is used to map keys to specific locations (buckets) within the table.\n",
        "- Constant Time Access:\n",
        "\n",
        "When you try to access a value using a key, the hash function is applied to the key, and this quickly determines which bucket the corresponding value is stored in. This lookup process takes a fixed amount of time, regardless of how many items are in the dictionary.\n",
        "- Worst-Case Scenario:\n",
        "\n",
        "While the average case is O(1), the worst-case scenario can be O(n) if the hash function generates many collisions (meaning multiple keys map to the same bucket). In this case, accessing an element might involve searching through a linked list or other data structure within the bucket, which would take linear time with respect to the number of collisions. However, good hash functions are designed to minimize collisions, so this worst-case behavior is rare in practice.\n",
        "- Example:\n",
        "\n",
        "If you have a dictionary\n",
        "  \n",
        "    my_dict = {\"apple\": 1, \"banana\": 2, \"cherry\": 3}\n",
        "and you want to access the value associated with the key \"banana\", it will take roughly the same amount of time whether the dictionary has 3 items or 3 million items (assuming a good hash function)."
      ],
      "metadata": {
        "id": "macmZTVjQNhJ"
      }
    },
    {
      "cell_type": "markdown",
      "source": [
        "18. In what situations are lists preferred over dictionaries?\n",
        "\n",
        "Answer: Lists are generally preferred over dictionaries when order is crucial, when you need to perform operations like sorting or reversing, or when you need to store a sequence of items where the position of each item is meaningful. Dictionaries are more suitable for scenarios where you need to quickly look up values based on unique keys, like storing data with associated labels or when dealing with key-value pairs.\n",
        "\n",
        "**Situations where lists are preferred** :\n",
        "\n",
        "- Ordered collections:\n",
        "\n",
        "When the sequence of items matters and you need to maintain the order in which they were added, lists are the better choice. For example, a list of user actions in chronological order or a list of steps in a process.\n",
        "- Sequential processing:\n",
        "\n",
        "If you need to iterate through items one by one, lists are ideal. Operations like appending, inserting, or deleting elements at specific indices are also more efficient with lists.\n",
        "When the items don't need to be accessed by key:\n",
        "If you only need to access items by their position (index), lists are simpler and potentially faster than dictionaries.\n",
        "- Simple data storage:\n",
        "\n",
        "For storing a collection of similar items where the order is important, but there are no unique identifiers (keys) associated with each item, a list is a good choice.\n",
        "\n",
        "**Situations where dictionaries are preferred** :\n",
        "\n",
        "- Key-value storage:\n",
        "\n",
        "When you need to store data that is associated with unique identifiers (keys), dictionaries are the most efficient way to do this. For example, storing student records with student IDs as keys or a phone book with names as keys.\n",
        "- Fast lookups:\n",
        "\n",
        "If you need to quickly retrieve a value based on a key, dictionaries offer much faster lookups than lists.\n",
        "- Complex data mapping:\n",
        "\n",
        "When you need to represent complex relationships between data elements, dictionaries can be used to create nested structures or mappings that are difficult to represent with lists."
      ],
      "metadata": {
        "id": "b6XufviKV54k"
      }
    },
    {
      "cell_type": "markdown",
      "source": [
        "19. Why are dictionaries considered unordered, and how does that affect data retrieval?\n",
        "\n",
        "Answer: Dictionaries are generally considered unordered because they are designed for fast key-based lookups, not for maintaining the order in which items were added. While some implementations, like Python's dictionary since version 3.7, might preserve insertion order, this is an implementation detail and not a core characteristic of dictionaries as data structures. This means you cannot rely on the order of elements when iterating or accessing them, and you should not use dictionaries for scenarios where element order is critical.\n",
        "\n",
        "**Why \"Unordered\"?**\n",
        "\n",
        "- Key-based Access:\n",
        "\n",
        "Dictionaries are optimized for quickly finding a value associated with a specific key. This is achieved using a hash table, which maps keys to their corresponding values. The hash table doesn't inherently store elements in any particular order.\n",
        "- No Sequence Guarantee:\n",
        "\n",
        "Unlike lists or tuples, dictionaries don't guarantee that the order of elements will be the same as when they were added. The order might change due to various factors, including how the dictionary is implemented or when new elements are added and removed.\n",
        "\n",
        "**Impact on Data Retrieval**\n",
        "- No Index-based Access:\n",
        "\n",
        "You cannot rely on the position of an element within the dictionary to retrieve it. Instead, you must use the key.\n",
        "- Iteration Order Not Guaranteed:\n",
        "\n",
        "If you iterate through a dictionary, the order in which the elements are visited is not predictable and might not be the same as the order they were added.\n",
        "- Order Not Preserved in Operations:\n",
        "\n",
        "Certain operations, like dictionary copying or merging, might not preserve the original order of elements.\n",
        "Python 3.7+ Considerations\n",
        "- Insertion Order Preservation:\n",
        "\n",
        "While Python dictionaries (since version 3.7) maintain insertion order, this is a consequence of the implementation and not a fundamental characteristic of dictionaries as data structures.\n",
        "- Not a Replacement for Ordered Collections:\n",
        "\n",
        "Even though dictionaries might appear ordered in newer Python versions, they are still primarily designed for fast key-based lookups and should not be used as a replacement for ordered collections like lists or tuples when order is crucial."
      ],
      "metadata": {
        "id": "C2iweNF9XMPq"
      }
    },
    {
      "cell_type": "markdown",
      "source": [
        "20.  Explain the difference between a list and a dictionary in terms of data retrieval.\n",
        "\n",
        "Answer: In terms of data retrieval, lists are accessed by index, while dictionaries are accessed by key. This means that to retrieve a specific element from a list, you use its numerical position (starting from 0), whereas for a dictionary, you use the associated key to find the corresponding value.\n",
        "\n",
        "**Lists** :\n",
        "\n",
        "- Lists are ordered sequences of elements, where each element has a specific position or index.\n",
        "- Elements are accessed using their index, starting from 0 for the first element, 1 for the second, and so on.\n",
        "- For example, to retrieve the 3rd element of a list, you would use the index 2.\n",
        "\n",
        "**Dictionaries** :\n",
        "\n",
        "- Dictionaries are collections of key-value pairs, where each key must be unique.\n",
        "- Elements (values) are accessed by their corresponding keys.\n",
        "- Keys can be of various data types, not just integers like in lists.\n",
        "- For example, to retrieve the value associated with the key \"name\", you would use the key \"name\".\n",
        "\n",
        "**In essence** :\n",
        "\n",
        "- Lists: Use a numerical index (position) to retrieve elements.\n",
        "- Dictionaries: Use a key to retrieve associated values.\n",
        "Example (Python):\n",
        "\n",
        "\n",
        "    # List\n",
        "    my_list = [\"apple\", \"banana\", \"cherry\"]\n",
        "    print(my_list[0])  # Output: \"apple\" (accessing by index)\n",
        "\n",
        "    # Dictionary\n",
        "    my_dict = {\"name\": \"Alice\", \"age\": 30}\n",
        "    print(my_dict[\"name\"])  # Output: \"Alice\" (accessing by key)"
      ],
      "metadata": {
        "id": "nznkx6SIaJCR"
      }
    },
    {
      "cell_type": "markdown",
      "source": [
        "## **Practical Question**"
      ],
      "metadata": {
        "id": "XWVJzD6YcvYL"
      }
    },
    {
      "cell_type": "code",
      "source": [
        "#1.Write a code to create a string with your name and print it.\n",
        "\n",
        "my_name = \"Chandrakant Sharma\"\n",
        "print(\"My name is\", my_name)"
      ],
      "metadata": {
        "colab": {
          "base_uri": "https://localhost:8080/"
        },
        "id": "utOwBzepdMma",
        "outputId": "d81e544e-e2d7-44b3-ae17-7c7a81a711dc"
      },
      "execution_count": 6,
      "outputs": [
        {
          "output_type": "stream",
          "name": "stdout",
          "text": [
            "My name is Chandrakant Sharma\n"
          ]
        }
      ]
    },
    {
      "cell_type": "code",
      "source": [
        "#2.Write a code to find the length of the string \"Hello World\".\n",
        "\n",
        "Text = \"hello world\"\n",
        "print(\"Length of the string:\", len(Text))"
      ],
      "metadata": {
        "colab": {
          "base_uri": "https://localhost:8080/"
        },
        "id": "Ylh9HZNsd0q4",
        "outputId": "796ef071-8a26-42c5-89fe-228d51ca4213"
      },
      "execution_count": 4,
      "outputs": [
        {
          "output_type": "stream",
          "name": "stdout",
          "text": [
            "Length of the string: 11\n"
          ]
        }
      ]
    },
    {
      "cell_type": "code",
      "source": [
        "#3.Write a code to slice the first 3 characters from the string \"Python Programming\".\n",
        "\n",
        "Text = \"Python Programming\"\n",
        "sliced_Text = Text[:3]\n",
        "print(\"First 3 Characters:\", sliced_Text)"
      ],
      "metadata": {
        "colab": {
          "base_uri": "https://localhost:8080/"
        },
        "id": "X0akbT5FP9_R",
        "outputId": "70709027-82b7-40df-b117-67269ee38b2c"
      },
      "execution_count": 5,
      "outputs": [
        {
          "output_type": "stream",
          "name": "stdout",
          "text": [
            "First 3 Characters: Pyt\n"
          ]
        }
      ]
    },
    {
      "cell_type": "code",
      "source": [
        "#4.Write a code to convert the string \"hello\" to uppercase.\n",
        "\n",
        "original_string = \"hello\"\n",
        "uppercase_string = original_string.upper()\n",
        "print(uppercase_string)"
      ],
      "metadata": {
        "colab": {
          "base_uri": "https://localhost:8080/"
        },
        "id": "FF46snnQRgnO",
        "outputId": "9b77b8cc-2683-436a-ce34-ab6b4c27feef"
      },
      "execution_count": 7,
      "outputs": [
        {
          "output_type": "stream",
          "name": "stdout",
          "text": [
            "HELLO\n"
          ]
        }
      ]
    },
    {
      "cell_type": "code",
      "source": [
        "#5.Write a code to replace the word \"apple\" with \"orange\" in the string \"I like apple\".\n",
        "\n",
        "text = \"I like apple\"\n",
        "new_text = text.replace(\"apple\", \"orange\")\n",
        "print(new_text)\n",
        "\n"
      ],
      "metadata": {
        "colab": {
          "base_uri": "https://localhost:8080/"
        },
        "id": "6XHYxjyeSNfV",
        "outputId": "7e62a1b5-13c3-493c-860e-85e78dd22d9d"
      },
      "execution_count": 10,
      "outputs": [
        {
          "output_type": "stream",
          "name": "stdout",
          "text": [
            "I like orange\n"
          ]
        }
      ]
    },
    {
      "cell_type": "code",
      "source": [
        "#6.Write a code to create a list with numbers 1 to 5 and print it.\n",
        "\n",
        "numbers = list(range(1, 6))\n",
        "print(numbers)"
      ],
      "metadata": {
        "colab": {
          "base_uri": "https://localhost:8080/"
        },
        "id": "qTfPE-4eVTF4",
        "outputId": "2d16c8e9-be77-43d7-d8a3-096723fc5e20"
      },
      "execution_count": 11,
      "outputs": [
        {
          "output_type": "stream",
          "name": "stdout",
          "text": [
            "[1, 2, 3, 4, 5]\n"
          ]
        }
      ]
    },
    {
      "cell_type": "code",
      "source": [
        "#7.Write a code to append the number 10 to the list [1, 2, 3, 4].\n",
        "\n",
        "numbers = [1, 2, 3, 4]\n",
        "numbers.append(10)\n",
        "print(numbers)"
      ],
      "metadata": {
        "colab": {
          "base_uri": "https://localhost:8080/"
        },
        "id": "MaLrtMHmVtTv",
        "outputId": "c0190015-70c3-4082-de0e-b9c69b98ac7d"
      },
      "execution_count": 12,
      "outputs": [
        {
          "output_type": "stream",
          "name": "stdout",
          "text": [
            "[1, 2, 3, 4, 10]\n"
          ]
        }
      ]
    },
    {
      "cell_type": "code",
      "source": [
        "#8.Write a code to remove the number 3 from the list [1, 2, 3, 4, 5].\n",
        "\n",
        "numbers = [1, 2, 3, 4, 5]\n",
        "numbers.remove(3)\n",
        "print(numbers)"
      ],
      "metadata": {
        "colab": {
          "base_uri": "https://localhost:8080/"
        },
        "id": "EjavnSMcWLTm",
        "outputId": "ac9f911d-2d6b-4f91-b5b7-250d2f356e10"
      },
      "execution_count": 13,
      "outputs": [
        {
          "output_type": "stream",
          "name": "stdout",
          "text": [
            "[1, 2, 4, 5]\n"
          ]
        }
      ]
    },
    {
      "cell_type": "code",
      "source": [
        "#9.Write a code to access the second element in the list ['a', 'b', 'c', 'd'].\n",
        "\n",
        "letters = ['a', 'b', 'c', 'd']\n",
        "second_element = letters[1]\n",
        "print(second_element)"
      ],
      "metadata": {
        "colab": {
          "base_uri": "https://localhost:8080/"
        },
        "id": "zCYRIJHsWcCj",
        "outputId": "32f84293-48a3-498b-ce0d-e7fd6ea4fe42"
      },
      "execution_count": 14,
      "outputs": [
        {
          "output_type": "stream",
          "name": "stdout",
          "text": [
            "b\n"
          ]
        }
      ]
    },
    {
      "cell_type": "code",
      "source": [
        "#10.Write a code to reverse the list [10, 20, 30, 40, 50].\n",
        "\n",
        "numbers = [10, 20, 30, 40, 50]\n",
        "reversed_numbers = numbers[::-1]\n",
        "print(reversed_numbers)"
      ],
      "metadata": {
        "colab": {
          "base_uri": "https://localhost:8080/"
        },
        "id": "F-6sFI7AW00g",
        "outputId": "af72a805-152a-455a-8183-282f9a86f2a4"
      },
      "execution_count": 15,
      "outputs": [
        {
          "output_type": "stream",
          "name": "stdout",
          "text": [
            "[50, 40, 30, 20, 10]\n"
          ]
        }
      ]
    },
    {
      "cell_type": "code",
      "source": [
        "#11.Write a code to create a tuple with the elements 100, 200, 300 and print it.\n",
        "\n",
        "my_tuple = (100, 200, 300)\n",
        "print(my_tuple)"
      ],
      "metadata": {
        "colab": {
          "base_uri": "https://localhost:8080/"
        },
        "id": "2jvCvwcrXPQ7",
        "outputId": "d763c1e6-c932-44ed-d98c-25d4ad2b94b2"
      },
      "execution_count": 16,
      "outputs": [
        {
          "output_type": "stream",
          "name": "stdout",
          "text": [
            "(100, 200, 300)\n"
          ]
        }
      ]
    },
    {
      "cell_type": "code",
      "source": [
        "#12.Write a code to access the second-to-last element of the tuple ('red', 'green', 'blue', 'yellow').\n",
        "\n",
        "colors = ('red', 'green', 'blue', 'yellow')\n",
        "second_to_last = colors[-2]\n",
        "print(second_to_last)"
      ],
      "metadata": {
        "colab": {
          "base_uri": "https://localhost:8080/"
        },
        "id": "V1Nu79fjXmxM",
        "outputId": "6f07738f-230e-4327-ff64-1dfaa989446c"
      },
      "execution_count": 17,
      "outputs": [
        {
          "output_type": "stream",
          "name": "stdout",
          "text": [
            "blue\n"
          ]
        }
      ]
    },
    {
      "cell_type": "code",
      "source": [
        "#13. Write a code to find the minimum number in the tuple (10, 20, 5, 15).\n",
        "\n",
        "numbers = (10, 20, 5, 15)\n",
        "print(min(numbers))"
      ],
      "metadata": {
        "colab": {
          "base_uri": "https://localhost:8080/"
        },
        "id": "Pai2vtXWX81g",
        "outputId": "0acb69ef-e001-4454-faa1-7a9926b5bdfe"
      },
      "execution_count": 18,
      "outputs": [
        {
          "output_type": "stream",
          "name": "stdout",
          "text": [
            "5\n"
          ]
        }
      ]
    },
    {
      "cell_type": "code",
      "source": [
        "#14.Write a code to find the index of the element \"cat\" in the tuple ('dog', 'cat', 'rabbit').\n",
        "\n",
        "animals = ('dog', 'cat', 'rabbit')\n",
        "print(animals.index('cat'))\n"
      ],
      "metadata": {
        "colab": {
          "base_uri": "https://localhost:8080/"
        },
        "id": "g2hwgBCHYjYV",
        "outputId": "c11e7015-69ea-48c0-e692-efbf6312fe8c"
      },
      "execution_count": 19,
      "outputs": [
        {
          "output_type": "stream",
          "name": "stdout",
          "text": [
            "1\n"
          ]
        }
      ]
    },
    {
      "cell_type": "code",
      "source": [
        "#15.Write a code to create a tuple containing three different fruits and check if \"kiwi\" is in it.\n",
        "\n",
        "fruits = ('apple', 'banana', 'mango')\n",
        "print('kiwi' in fruits)"
      ],
      "metadata": {
        "colab": {
          "base_uri": "https://localhost:8080/"
        },
        "id": "S0yM7AmuY7Ug",
        "outputId": "96e599b2-7dac-4eb5-c4d5-7b3cc66a6502"
      },
      "execution_count": 20,
      "outputs": [
        {
          "output_type": "stream",
          "name": "stdout",
          "text": [
            "False\n"
          ]
        }
      ]
    },
    {
      "cell_type": "code",
      "source": [
        "#16. Write a code to create a set with the elements 'a', 'b', 'c' and print it.\n",
        "\n",
        "letters = {'a', 'b', 'c'}\n",
        "print(letters)"
      ],
      "metadata": {
        "colab": {
          "base_uri": "https://localhost:8080/"
        },
        "id": "LR3icCiOZqGh",
        "outputId": "11d8305f-0dd7-4f1e-d1db-1bdf557d6cad"
      },
      "execution_count": 21,
      "outputs": [
        {
          "output_type": "stream",
          "name": "stdout",
          "text": [
            "{'a', 'c', 'b'}\n"
          ]
        }
      ]
    },
    {
      "cell_type": "code",
      "source": [
        "#17. Write a code to clear all elements from the set {1, 2, 3, 4, 5}.\n",
        "\n",
        "s = {1, 2, 3, 4, 5}\n",
        "s.clear()\n",
        "print(s)"
      ],
      "metadata": {
        "colab": {
          "base_uri": "https://localhost:8080/"
        },
        "id": "WsO9qhx3ZrJ5",
        "outputId": "32a9a15c-8a2f-4f6b-f26c-14755b18dbc9"
      },
      "execution_count": 22,
      "outputs": [
        {
          "output_type": "stream",
          "name": "stdout",
          "text": [
            "set()\n"
          ]
        }
      ]
    },
    {
      "cell_type": "code",
      "source": [
        "#18. Write a code to remove the element 4 from the set {1, 2, 3, 4}.\n",
        "\n",
        "s = {1, 2, 3, 4}\n",
        "s.remove(4)\n",
        "print(s)"
      ],
      "metadata": {
        "colab": {
          "base_uri": "https://localhost:8080/"
        },
        "id": "6_K1hebbZra8",
        "outputId": "925d6694-7c84-46a5-d592-906ff7375b0a"
      },
      "execution_count": 23,
      "outputs": [
        {
          "output_type": "stream",
          "name": "stdout",
          "text": [
            "{1, 2, 3}\n"
          ]
        }
      ]
    },
    {
      "cell_type": "code",
      "source": [
        "#19. Write a code to find the union of two sets {1, 2, 3} and {3, 4, 5}.\n",
        "\n",
        "set1 = {1, 2, 3}\n",
        "set2 = {3, 4, 5}\n",
        "union_set = set1.union(set2)\n",
        "print(union_set)"
      ],
      "metadata": {
        "colab": {
          "base_uri": "https://localhost:8080/"
        },
        "id": "1hqSEZnzZrhD",
        "outputId": "58717d59-ed88-403c-c9ec-ae320484dc24"
      },
      "execution_count": 24,
      "outputs": [
        {
          "output_type": "stream",
          "name": "stdout",
          "text": [
            "{1, 2, 3, 4, 5}\n"
          ]
        }
      ]
    },
    {
      "cell_type": "code",
      "source": [
        "#20. Write a code to find the intersection of two sets {1, 2, 3} and {2, 3, 4}.\n",
        "\n",
        "set1 = {1, 2, 3}\n",
        "set2 = {2, 3, 4}\n",
        "intersection_set = set1.intersection(set2)\n",
        "print(intersection_set)"
      ],
      "metadata": {
        "colab": {
          "base_uri": "https://localhost:8080/"
        },
        "id": "kKloCPswZrnX",
        "outputId": "d93699c7-a12d-4628-8f7e-919bf182e6a1"
      },
      "execution_count": 27,
      "outputs": [
        {
          "output_type": "stream",
          "name": "stdout",
          "text": [
            "{2, 3}\n"
          ]
        }
      ]
    },
    {
      "cell_type": "code",
      "source": [
        "#21. Write a code to create a dictionary with the keys \"name\", \"age\", and \"city\", and print it.\n",
        "\n",
        "person = {\"name\": \"Chandrakant sharma\", \"age\": 21, \"city\": \"noida\"}\n",
        "print(person)"
      ],
      "metadata": {
        "colab": {
          "base_uri": "https://localhost:8080/"
        },
        "id": "42vbxxRGZryT",
        "outputId": "776b1edf-2a68-41e1-d44e-e6a4316169e4"
      },
      "execution_count": 28,
      "outputs": [
        {
          "output_type": "stream",
          "name": "stdout",
          "text": [
            "{'name': 'Chandrakant sharma', 'age': 21, 'city': 'noida'}\n"
          ]
        }
      ]
    },
    {
      "cell_type": "code",
      "source": [
        "#22. Write a code to add a new key-value pair \"country\": \"USA\" to the dictionary {'name': 'John', 'age': 25}.\n",
        "\n",
        "person = {'name': 'John', 'age': 25}\n",
        "person['country'] = 'USA'\n",
        "print(person)"
      ],
      "metadata": {
        "colab": {
          "base_uri": "https://localhost:8080/"
        },
        "id": "J8he2YI2Zr3s",
        "outputId": "dda61343-720b-4762-8f5a-a15fa9823ddc"
      },
      "execution_count": 29,
      "outputs": [
        {
          "output_type": "stream",
          "name": "stdout",
          "text": [
            "{'name': 'John', 'age': 25, 'country': 'USA'}\n"
          ]
        }
      ]
    },
    {
      "cell_type": "code",
      "source": [
        "#23. Write a code to access the value associated with the key \"name\" in the dictionary {'name': 'Alice', 'age': 30}.\n",
        "\n",
        "person = {'name': 'Alice', 'age': 30}\n",
        "print(person['name'])"
      ],
      "metadata": {
        "colab": {
          "base_uri": "https://localhost:8080/"
        },
        "id": "l4itWV7vZr-j",
        "outputId": "0fd6064e-741e-4d14-f808-21557e1d37a4"
      },
      "execution_count": 30,
      "outputs": [
        {
          "output_type": "stream",
          "name": "stdout",
          "text": [
            "Alice\n"
          ]
        }
      ]
    },
    {
      "cell_type": "code",
      "source": [
        "#24. Write a code to remove the key \"age\" from the dictionary {'name': 'Bob', 'age': 22, 'city': 'New York'}.\n",
        "\n",
        "person = {'name': 'Bob', 'age': 22, 'city': 'New York'}\n",
        "del person['age']\n",
        "print(person)"
      ],
      "metadata": {
        "colab": {
          "base_uri": "https://localhost:8080/"
        },
        "id": "zTot1WN4aD-_",
        "outputId": "d3f7282b-ccdf-448f-9ca8-81c64c0f7632"
      },
      "execution_count": 31,
      "outputs": [
        {
          "output_type": "stream",
          "name": "stdout",
          "text": [
            "{'name': 'Bob', 'city': 'New York'}\n"
          ]
        }
      ]
    },
    {
      "cell_type": "code",
      "source": [
        "#25. Write a code to check if the key \"city\" exists in the dictionary {'name': 'Alice', 'city': 'Paris'}.\n",
        "\n",
        "person = {'name': 'Alice', 'city': 'Paris'}\n",
        "print('city' in person)"
      ],
      "metadata": {
        "colab": {
          "base_uri": "https://localhost:8080/"
        },
        "id": "ZY4LAm3yaEQy",
        "outputId": "c23adb8b-132c-46f9-b5b4-b2562b9e05ae"
      },
      "execution_count": 32,
      "outputs": [
        {
          "output_type": "stream",
          "name": "stdout",
          "text": [
            "True\n"
          ]
        }
      ]
    },
    {
      "cell_type": "code",
      "source": [
        "#26. Write a code to create a list, a tuple, and a dictionary, and print them all.\n",
        "\n",
        "my_list = [1, 2, 3]\n",
        "my_tuple = ('a', 'b', 'c')\n",
        "my_dict = {'key1': 'value1', 'key2': 'value2'}\n",
        "print(my_list, my_tuple, my_dict)"
      ],
      "metadata": {
        "colab": {
          "base_uri": "https://localhost:8080/"
        },
        "id": "-I4Z_bn1aEhN",
        "outputId": "2cf6b2ec-bed8-4fbc-bc6f-e78bab636bbc"
      },
      "execution_count": 33,
      "outputs": [
        {
          "output_type": "stream",
          "name": "stdout",
          "text": [
            "[1, 2, 3] ('a', 'b', 'c') {'key1': 'value1', 'key2': 'value2'}\n"
          ]
        }
      ]
    },
    {
      "cell_type": "code",
      "source": [
        "#27. Write a code to create a list of 5 random numbers between 1 and 100, sort it in ascending order, and print the result.(replaced)\n",
        "\n",
        "import random\n",
        "random_numbers = random.sample(range(1, 101), 5)\n",
        "random_numbers.sort()\n",
        "print(random_numbers)"
      ],
      "metadata": {
        "colab": {
          "base_uri": "https://localhost:8080/"
        },
        "id": "ttxdkaSJaEyF",
        "outputId": "cc3d6710-cd14-40e7-8d96-d33f5d4e87d6"
      },
      "execution_count": 40,
      "outputs": [
        {
          "output_type": "stream",
          "name": "stdout",
          "text": [
            "[44, 58, 64, 82, 97]\n"
          ]
        }
      ]
    },
    {
      "cell_type": "code",
      "source": [
        "#28. Write a code to create a list with strings and print the element at the third index.\n",
        "\n",
        "words = [\"apple\", \"banana\", \"cherry\", \"date\", \"elderberry\"]\n",
        "print(words[3])"
      ],
      "metadata": {
        "colab": {
          "base_uri": "https://localhost:8080/"
        },
        "id": "CcJ-Xk3LaFCn",
        "outputId": "69e35d46-b671-4136-dd4e-abb1db0e260c"
      },
      "execution_count": 35,
      "outputs": [
        {
          "output_type": "stream",
          "name": "stdout",
          "text": [
            "date\n"
          ]
        }
      ]
    },
    {
      "cell_type": "code",
      "source": [
        "#29. Write a code to combine two dictionaries into one and print the result.\n",
        "\n",
        "dict1 = {'a': 1, 'b': 2}\n",
        "dict2 = {'c': 3, 'd': 4}\n",
        "combined = {**dict1, **dict2}\n",
        "print(combined)"
      ],
      "metadata": {
        "colab": {
          "base_uri": "https://localhost:8080/"
        },
        "id": "FgobAnKQaFUN",
        "outputId": "b30e5229-6bc6-45fd-ec99-fd24ba10a838"
      },
      "execution_count": 36,
      "outputs": [
        {
          "output_type": "stream",
          "name": "stdout",
          "text": [
            "{'a': 1, 'b': 2, 'c': 3, 'd': 4}\n"
          ]
        }
      ]
    },
    {
      "cell_type": "code",
      "source": [
        "#30. Write a code to convert a list of strings into a set.\n",
        "\n",
        "string_list = [\"apple\", \"banana\", \"cherry\", \"apple\"]\n",
        "string_set = set(string_list)\n",
        "print(string_set)"
      ],
      "metadata": {
        "colab": {
          "base_uri": "https://localhost:8080/"
        },
        "id": "F-GmqLEeaFkt",
        "outputId": "55c0500b-5f31-4539-df06-0fa2b279b1a4"
      },
      "execution_count": 37,
      "outputs": [
        {
          "output_type": "stream",
          "name": "stdout",
          "text": [
            "{'apple', 'banana', 'cherry'}\n"
          ]
        }
      ]
    }
  ]
}